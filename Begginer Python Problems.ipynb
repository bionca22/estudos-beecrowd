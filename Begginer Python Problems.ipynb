{
 "cells": [
  {
   "cell_type": "markdown",
   "id": "1de1c044",
   "metadata": {},
   "source": [
    "**ex 1002**"
   ]
  },
  {
   "cell_type": "code",
   "execution_count": null,
   "id": "5e5ad52d",
   "metadata": {},
   "outputs": [],
   "source": [
    "n = 3.14159\n",
    "r = float(input())\n",
    "\n",
    "\n",
    "R = r * r\n",
    "A = n * R\n",
    "\n",
    "print('A='+str(\"%.4f\"%A))"
   ]
  },
  {
   "cell_type": "markdown",
   "id": "2cfdc9f5",
   "metadata": {},
   "source": [
    "**ex 1004**"
   ]
  },
  {
   "cell_type": "code",
   "execution_count": null,
   "id": "e5a6196e",
   "metadata": {},
   "outputs": [],
   "source": [
    "A = int(input())\n",
    "B = int(input())\n",
    "\n",
    "PROD = A * B\n",
    "print('PROD =', PROD)"
   ]
  },
  {
   "cell_type": "markdown",
   "id": "ac1125d1",
   "metadata": {},
   "source": [
    "**ex 1005**"
   ]
  },
  {
   "cell_type": "code",
   "execution_count": null,
   "id": "c4420873",
   "metadata": {},
   "outputs": [],
   "source": [
    "A = float(input())\n",
    "B = float(input())\n",
    "\n",
    "A = A * 3.5\n",
    "B = B * 7.5\n",
    "\n",
    "MEDIA = (A + B) / (3.5 + 7.5)\n",
    "print('MEDIA =', \"%.5f\"%MEDIA)"
   ]
  },
  {
   "cell_type": "markdown",
   "id": "5d0ed97c",
   "metadata": {},
   "source": [
    "**ex 1006**"
   ]
  },
  {
   "cell_type": "code",
   "execution_count": null,
   "id": "3dc3acfb",
   "metadata": {},
   "outputs": [],
   "source": [
    "A = float(input())\n",
    "B = float(input())\n",
    "C = float(input())\n",
    "\n",
    "A = A * 3.5\n",
    "B = B * 7.5\n",
    "C = C \n",
    "MEDIA = (A + B) / (3.5 + 7.5)\n",
    "print('MEDIA =', \"%.5f\"%MEDIA)"
   ]
  },
  {
   "cell_type": "markdown",
   "id": "76721cf4",
   "metadata": {},
   "source": [
    "**ex 1008**"
   ]
  },
  {
   "cell_type": "code",
   "execution_count": null,
   "id": "29972676",
   "metadata": {},
   "outputs": [],
   "source": [
    "NUMBER = int(input())\n",
    "HORAS = int(input())\n",
    "DINHEIRO = float(input())\n",
    "\n",
    "SALARY = HORAS * DINHEIRO\n",
    "\n",
    "print('NUMBER =',str(NUMBER)+'\\nSALARY =','U$','%.2f'% SALARY"
   ]
  }
 ],
 "metadata": {
  "kernelspec": {
   "display_name": "Python 3 (ipykernel)",
   "language": "python",
   "name": "python3"
  },
  "language_info": {
   "codemirror_mode": {
    "name": "ipython",
    "version": 3
   },
   "file_extension": ".py",
   "mimetype": "text/x-python",
   "name": "python",
   "nbconvert_exporter": "python",
   "pygments_lexer": "ipython3",
   "version": "3.10.7"
  }
 },
 "nbformat": 4,
 "nbformat_minor": 5
}
